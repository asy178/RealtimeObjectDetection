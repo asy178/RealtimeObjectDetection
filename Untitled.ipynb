{
 "cells": [
  {
   "cell_type": "code",
   "execution_count": 1,
   "id": "stainless-proceeding",
   "metadata": {},
   "outputs": [],
   "source": [
    "import cv2 #opencv\n",
    "import os \n",
    "import time\n",
    "import uuid"
   ]
  },
  {
   "cell_type": "code",
   "execution_count": 2,
   "id": "encouraging-mauritius",
   "metadata": {},
   "outputs": [],
   "source": [
    "IMAGES_PATH = 'Tensorflow/workspace/images/collectedimages'"
   ]
  },
  {
   "cell_type": "code",
   "execution_count": 3,
   "id": "little-import",
   "metadata": {},
   "outputs": [],
   "source": [
    "labels = ['a', 'b', 'c', 'd', 'e' , 'f', 'g', 'h', 'i', 'k', 'l', 'm', 'n', 'o',\n",
    "         'p' , 'q', 'r', 's', 't', 'u', 'v', 'w', 'x', 'y'] #j and z no because moving gesture\n",
    "number_imgs = 15"
   ]
  },
  {
   "cell_type": "code",
   "execution_count": 4,
   "id": "recent-suspension",
   "metadata": {
    "scrolled": true
   },
   "outputs": [
    {
     "name": "stdout",
     "output_type": "stream",
     "text": [
      "Collecting images for a\n",
      "Collecting images for b\n",
      "Collecting images for c\n",
      "Collecting images for d\n",
      "Collecting images for e\n",
      "Collecting images for f\n",
      "Collecting images for g\n",
      "Collecting images for h\n",
      "Collecting images for i\n",
      "Collecting images for k\n",
      "Collecting images for l\n",
      "Collecting images for m\n",
      "Collecting images for n\n",
      "Collecting images for o\n",
      "Collecting images for p\n",
      "Collecting images for q\n",
      "Collecting images for r\n",
      "Collecting images for s\n",
      "Collecting images for t\n",
      "Collecting images for u\n",
      "Collecting images for v\n",
      "Collecting images for w\n",
      "Collecting images for x\n",
      "Collecting images for y\n"
     ]
    }
   ],
   "source": [
    "for label in labels:\n",
    "    !mkdir {'Tensorflow\\workspace\\images\\collectedimages\\\\'+label}\n",
    "    cap = cv2.VideoCapture(0)\n",
    "    print('Collecting images for {}'.format(label))\n",
    "    time.sleep(5)\n",
    "    for imgnum in range(number_imgs):\n",
    "        ret, frame = cap.read()\n",
    "        imgname = os.path.join(IMAGES_PATH, label, label+'.'+'{}.jpg'.format(str(uuid.uuid1())))\n",
    "        cv2.imwrite(imgname, frame)\n",
    "        cv2.imshow('frame', frame)\n",
    "        time.sleep(2)\n",
    "        \n",
    "        if cv2.waitKey(1) & 0xFF == ord('q'):\n",
    "            break\n",
    "    cap.release()"
   ]
  }
 ],
 "metadata": {
  "kernelspec": {
   "display_name": "Python 3",
   "language": "python",
   "name": "python3"
  },
  "language_info": {
   "codemirror_mode": {
    "name": "ipython",
    "version": 3
   },
   "file_extension": ".py",
   "mimetype": "text/x-python",
   "name": "python",
   "nbconvert_exporter": "python",
   "pygments_lexer": "ipython3",
   "version": "3.9.0"
  }
 },
 "nbformat": 4,
 "nbformat_minor": 5
}
